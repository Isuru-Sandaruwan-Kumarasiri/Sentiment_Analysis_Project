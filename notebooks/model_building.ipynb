{
 "cells": [
  {
   "cell_type": "code",
   "execution_count": 13,
   "id": "1a718e20-cb25-4eb7-8eb4-e6479e5f9b55",
   "metadata": {},
   "outputs": [],
   "source": [
    "import numpy as np\n",
    "import pandas as pd\n",
    "import matplotlib.pyplot as plt"
   ]
  },
  {
   "cell_type": "code",
   "execution_count": 14,
   "id": "52c877c0-0cab-44a6-ae72-682c7f9f4589",
   "metadata": {},
   "outputs": [
    {
     "data": {
      "text/html": [
       "<div>\n",
       "<style scoped>\n",
       "    .dataframe tbody tr th:only-of-type {\n",
       "        vertical-align: middle;\n",
       "    }\n",
       "\n",
       "    .dataframe tbody tr th {\n",
       "        vertical-align: top;\n",
       "    }\n",
       "\n",
       "    .dataframe thead th {\n",
       "        text-align: right;\n",
       "    }\n",
       "</style>\n",
       "<table border=\"1\" class=\"dataframe\">\n",
       "  <thead>\n",
       "    <tr style=\"text-align: right;\">\n",
       "      <th></th>\n",
       "      <th>id</th>\n",
       "      <th>label</th>\n",
       "      <th>tweet</th>\n",
       "    </tr>\n",
       "  </thead>\n",
       "  <tbody>\n",
       "    <tr>\n",
       "      <th>0</th>\n",
       "      <td>1</td>\n",
       "      <td>0</td>\n",
       "      <td>#fingerprint #Pregnancy Test https://goo.gl/h1...</td>\n",
       "    </tr>\n",
       "    <tr>\n",
       "      <th>1</th>\n",
       "      <td>2</td>\n",
       "      <td>0</td>\n",
       "      <td>Finally a transparant silicon case ^^ Thanks t...</td>\n",
       "    </tr>\n",
       "    <tr>\n",
       "      <th>2</th>\n",
       "      <td>3</td>\n",
       "      <td>0</td>\n",
       "      <td>We love this! Would you go? #talk #makememorie...</td>\n",
       "    </tr>\n",
       "    <tr>\n",
       "      <th>3</th>\n",
       "      <td>4</td>\n",
       "      <td>0</td>\n",
       "      <td>I'm wired I know I'm George I was made that wa...</td>\n",
       "    </tr>\n",
       "    <tr>\n",
       "      <th>4</th>\n",
       "      <td>5</td>\n",
       "      <td>1</td>\n",
       "      <td>What amazing service! Apple won't even talk to...</td>\n",
       "    </tr>\n",
       "  </tbody>\n",
       "</table>\n",
       "</div>"
      ],
      "text/plain": [
       "   id  label                                              tweet\n",
       "0   1      0  #fingerprint #Pregnancy Test https://goo.gl/h1...\n",
       "1   2      0  Finally a transparant silicon case ^^ Thanks t...\n",
       "2   3      0  We love this! Would you go? #talk #makememorie...\n",
       "3   4      0  I'm wired I know I'm George I was made that wa...\n",
       "4   5      1  What amazing service! Apple won't even talk to..."
      ]
     },
     "execution_count": 14,
     "metadata": {},
     "output_type": "execute_result"
    }
   ],
   "source": [
    "data=pd.read_csv(\"../data/sentiment_analysis.csv\")\n",
    "data.head()"
   ]
  },
  {
   "cell_type": "markdown",
   "id": "5837887f-b1a4-4d0d-b9c3-1e4b377a5a60",
   "metadata": {},
   "source": [
    "## Data Preprocessing"
   ]
  },
  {
   "cell_type": "code",
   "execution_count": 15,
   "id": "99cf2431-0d6d-49e2-b1af-dbb240981335",
   "metadata": {},
   "outputs": [
    {
     "data": {
      "text/plain": [
       "np.int64(0)"
      ]
     },
     "execution_count": 15,
     "metadata": {},
     "output_type": "execute_result"
    }
   ],
   "source": [
    "# check duplicates\n",
    "data.duplicated().sum()"
   ]
  },
  {
   "cell_type": "code",
   "execution_count": 16,
   "id": "adb37fac-b840-4495-ae54-6e0f9d25d564",
   "metadata": {},
   "outputs": [
    {
     "data": {
      "text/plain": [
       "id       0\n",
       "label    0\n",
       "tweet    0\n",
       "dtype: int64"
      ]
     },
     "execution_count": 16,
     "metadata": {},
     "output_type": "execute_result"
    }
   ],
   "source": [
    "# check null values\n",
    "data.isnull().sum()"
   ]
  },
  {
   "cell_type": "markdown",
   "id": "bf74026f-dfeb-4254-a4a7-01cd903baa07",
   "metadata": {},
   "source": [
    "### Text Preprocessing"
   ]
  },
  {
   "cell_type": "code",
   "execution_count": 17,
   "id": "a53ddbc8-c66a-4d21-bc8b-990ed8197cbc",
   "metadata": {},
   "outputs": [],
   "source": [
    "# Convert Uppercase to Lowercase\n",
    "# Remove Links\n",
    "# Remove Puncatuations (?><\"\")\n",
    "# Remove Numbers\n",
    "# Remove Stopwords (\"and, by ,the ,is ,in ,about\")\n",
    "# Stemming (create ,careating ,creates careated ) get the base word"
   ]
  },
  {
   "cell_type": "code",
   "execution_count": 18,
   "id": "9bf74019-a02f-4488-ac59-873fd8416677",
   "metadata": {},
   "outputs": [],
   "source": [
    "import re\n",
    "import string"
   ]
  },
  {
   "cell_type": "markdown",
   "id": "d5a56f90-6fc9-4803-b720-50aa54512aaf",
   "metadata": {},
   "source": [
    "##### Convert uppercaset to lowercase"
   ]
  },
  {
   "cell_type": "code",
   "execution_count": 19,
   "id": "3bc26bfd-b475-43e0-9cdd-81626f769028",
   "metadata": {},
   "outputs": [
    {
     "data": {
      "text/html": [
       "<div>\n",
       "<style scoped>\n",
       "    .dataframe tbody tr th:only-of-type {\n",
       "        vertical-align: middle;\n",
       "    }\n",
       "\n",
       "    .dataframe tbody tr th {\n",
       "        vertical-align: top;\n",
       "    }\n",
       "\n",
       "    .dataframe thead th {\n",
       "        text-align: right;\n",
       "    }\n",
       "</style>\n",
       "<table border=\"1\" class=\"dataframe\">\n",
       "  <thead>\n",
       "    <tr style=\"text-align: right;\">\n",
       "      <th></th>\n",
       "      <th>id</th>\n",
       "      <th>label</th>\n",
       "      <th>tweet</th>\n",
       "    </tr>\n",
       "  </thead>\n",
       "  <tbody>\n",
       "    <tr>\n",
       "      <th>0</th>\n",
       "      <td>1</td>\n",
       "      <td>0</td>\n",
       "      <td>#fingerprint #pregnancy test https://goo.gl/h1...</td>\n",
       "    </tr>\n",
       "    <tr>\n",
       "      <th>1</th>\n",
       "      <td>2</td>\n",
       "      <td>0</td>\n",
       "      <td>finally a transparant silicon case ^^ thanks t...</td>\n",
       "    </tr>\n",
       "    <tr>\n",
       "      <th>2</th>\n",
       "      <td>3</td>\n",
       "      <td>0</td>\n",
       "      <td>we love this! would you go? #talk #makememorie...</td>\n",
       "    </tr>\n",
       "    <tr>\n",
       "      <th>3</th>\n",
       "      <td>4</td>\n",
       "      <td>0</td>\n",
       "      <td>i'm wired i know i'm george i was made that wa...</td>\n",
       "    </tr>\n",
       "    <tr>\n",
       "      <th>4</th>\n",
       "      <td>5</td>\n",
       "      <td>1</td>\n",
       "      <td>what amazing service! apple won't even talk to...</td>\n",
       "    </tr>\n",
       "  </tbody>\n",
       "</table>\n",
       "</div>"
      ],
      "text/plain": [
       "   id  label                                              tweet\n",
       "0   1      0  #fingerprint #pregnancy test https://goo.gl/h1...\n",
       "1   2      0  finally a transparant silicon case ^^ thanks t...\n",
       "2   3      0  we love this! would you go? #talk #makememorie...\n",
       "3   4      0  i'm wired i know i'm george i was made that wa...\n",
       "4   5      1  what amazing service! apple won't even talk to..."
      ]
     },
     "execution_count": 19,
     "metadata": {},
     "output_type": "execute_result"
    }
   ],
   "source": [
    "data[\"tweet\"]=data[\"tweet\"].apply(lambda x: \" \".join(x.lower() for x in x.split()))\n",
    "data.head()"
   ]
  },
  {
   "cell_type": "markdown",
   "id": "98b29858-66bf-4146-8448-199c85756072",
   "metadata": {},
   "source": [
    "##### Remove Links"
   ]
  },
  {
   "cell_type": "code",
   "execution_count": 20,
   "id": "9cd80206-5470-447a-9581-060287634248",
   "metadata": {},
   "outputs": [
    {
     "data": {
      "text/html": [
       "<div>\n",
       "<style scoped>\n",
       "    .dataframe tbody tr th:only-of-type {\n",
       "        vertical-align: middle;\n",
       "    }\n",
       "\n",
       "    .dataframe tbody tr th {\n",
       "        vertical-align: top;\n",
       "    }\n",
       "\n",
       "    .dataframe thead th {\n",
       "        text-align: right;\n",
       "    }\n",
       "</style>\n",
       "<table border=\"1\" class=\"dataframe\">\n",
       "  <thead>\n",
       "    <tr style=\"text-align: right;\">\n",
       "      <th></th>\n",
       "      <th>id</th>\n",
       "      <th>label</th>\n",
       "      <th>tweet</th>\n",
       "    </tr>\n",
       "  </thead>\n",
       "  <tbody>\n",
       "    <tr>\n",
       "      <th>0</th>\n",
       "      <td>1</td>\n",
       "      <td>0</td>\n",
       "      <td>#fingerprint #pregnancy test  #android #apps #...</td>\n",
       "    </tr>\n",
       "    <tr>\n",
       "      <th>1</th>\n",
       "      <td>2</td>\n",
       "      <td>0</td>\n",
       "      <td>finally a transparant silicon case ^^ thanks t...</td>\n",
       "    </tr>\n",
       "    <tr>\n",
       "      <th>2</th>\n",
       "      <td>3</td>\n",
       "      <td>0</td>\n",
       "      <td>we love this! would you go? #talk #makememorie...</td>\n",
       "    </tr>\n",
       "    <tr>\n",
       "      <th>3</th>\n",
       "      <td>4</td>\n",
       "      <td>0</td>\n",
       "      <td>i'm wired i know i'm george i was made that wa...</td>\n",
       "    </tr>\n",
       "    <tr>\n",
       "      <th>4</th>\n",
       "      <td>5</td>\n",
       "      <td>1</td>\n",
       "      <td>what amazing service! apple won't even talk to...</td>\n",
       "    </tr>\n",
       "  </tbody>\n",
       "</table>\n",
       "</div>"
      ],
      "text/plain": [
       "   id  label                                              tweet\n",
       "0   1      0  #fingerprint #pregnancy test  #android #apps #...\n",
       "1   2      0  finally a transparant silicon case ^^ thanks t...\n",
       "2   3      0  we love this! would you go? #talk #makememorie...\n",
       "3   4      0  i'm wired i know i'm george i was made that wa...\n",
       "4   5      1  what amazing service! apple won't even talk to..."
      ]
     },
     "execution_count": 20,
     "metadata": {},
     "output_type": "execute_result"
    }
   ],
   "source": [
    "data[\"tweet\"]=data[\"tweet\"].apply(lambda x: \" \".join(re.sub(r'^https?:\\/\\/.*[\\r\\n]*','',x,flags=re.MULTILINE) for x in x.split()))\n",
    "data.head()"
   ]
  },
  {
   "cell_type": "markdown",
   "id": "c2a2305c-251c-4c51-b0d7-85dc47f9f36c",
   "metadata": {},
   "source": [
    "##### Remove Punctuations"
   ]
  },
  {
   "cell_type": "code",
   "execution_count": 21,
   "id": "949df7ce-b205-42c5-9404-7509e0f68094",
   "metadata": {},
   "outputs": [
    {
     "data": {
      "text/html": [
       "<div>\n",
       "<style scoped>\n",
       "    .dataframe tbody tr th:only-of-type {\n",
       "        vertical-align: middle;\n",
       "    }\n",
       "\n",
       "    .dataframe tbody tr th {\n",
       "        vertical-align: top;\n",
       "    }\n",
       "\n",
       "    .dataframe thead th {\n",
       "        text-align: right;\n",
       "    }\n",
       "</style>\n",
       "<table border=\"1\" class=\"dataframe\">\n",
       "  <thead>\n",
       "    <tr style=\"text-align: right;\">\n",
       "      <th></th>\n",
       "      <th>id</th>\n",
       "      <th>label</th>\n",
       "      <th>tweet</th>\n",
       "    </tr>\n",
       "  </thead>\n",
       "  <tbody>\n",
       "    <tr>\n",
       "      <th>0</th>\n",
       "      <td>1</td>\n",
       "      <td>0</td>\n",
       "      <td>fingerprint pregnancy test  android apps beaut...</td>\n",
       "    </tr>\n",
       "    <tr>\n",
       "      <th>1</th>\n",
       "      <td>2</td>\n",
       "      <td>0</td>\n",
       "      <td>finally a transparant silicon case  thanks to ...</td>\n",
       "    </tr>\n",
       "    <tr>\n",
       "      <th>2</th>\n",
       "      <td>3</td>\n",
       "      <td>0</td>\n",
       "      <td>we love this would you go talk makememories un...</td>\n",
       "    </tr>\n",
       "    <tr>\n",
       "      <th>3</th>\n",
       "      <td>4</td>\n",
       "      <td>0</td>\n",
       "      <td>im wired i know im george i was made that way ...</td>\n",
       "    </tr>\n",
       "    <tr>\n",
       "      <th>4</th>\n",
       "      <td>5</td>\n",
       "      <td>1</td>\n",
       "      <td>what amazing service apple wont even talk to m...</td>\n",
       "    </tr>\n",
       "  </tbody>\n",
       "</table>\n",
       "</div>"
      ],
      "text/plain": [
       "   id  label                                              tweet\n",
       "0   1      0  fingerprint pregnancy test  android apps beaut...\n",
       "1   2      0  finally a transparant silicon case  thanks to ...\n",
       "2   3      0  we love this would you go talk makememories un...\n",
       "3   4      0  im wired i know im george i was made that way ...\n",
       "4   5      1  what amazing service apple wont even talk to m..."
      ]
     },
     "execution_count": 21,
     "metadata": {},
     "output_type": "execute_result"
    }
   ],
   "source": [
    "def remove_functuations (text):\n",
    "    for punctuation in string.punctuation:\n",
    "        text = text.replace(punctuation,'')\n",
    "    return text\n",
    "\n",
    "data[\"tweet\"]=data[\"tweet\"].apply(remove_functuations)\n",
    "data.head()\n",
    "\n",
    "#string.punctuation\n",
    "#'!\"#$%&\\'()*+,-./:;<=>?@[\\\\]^_`{|}~'"
   ]
  },
  {
   "cell_type": "markdown",
   "id": "5de23661-03b9-4b74-8655-02907dde8f80",
   "metadata": {},
   "source": [
    "##### Remove Numbers"
   ]
  },
  {
   "cell_type": "code",
   "execution_count": 22,
   "id": "0609d94f-014f-468a-80cc-5ac8de6ce4d1",
   "metadata": {},
   "outputs": [
    {
     "data": {
      "text/plain": [
       "7915    live out loud lol liveoutloud selfie smile son...\n",
       "7916    we would like to wish you an amazing day make ...\n",
       "7917    helping my lovely  year old neighbor with her ...\n",
       "7918    finally got my smart pocket wifi stay connecte...\n",
       "7919    apple barcelona apple store bcn barcelona trav...\n",
       "Name: tweet, dtype: object"
      ]
     },
     "execution_count": 22,
     "metadata": {},
     "output_type": "execute_result"
    }
   ],
   "source": [
    "data[\"tweet\"] = data[\"tweet\"].str.replace(r'\\d+', '', regex=True)\n",
    "data[\"tweet\"].tail()"
   ]
  },
  {
   "cell_type": "markdown",
   "id": "973f8a34-62c7-40ae-9506-38f90a47d8a1",
   "metadata": {},
   "source": [
    "##### Remove Stopwords"
   ]
  },
  {
   "cell_type": "code",
   "execution_count": 23,
   "id": "beee548e-1f3b-467f-9a48-f8aa50123f0e",
   "metadata": {},
   "outputs": [
    {
     "name": "stderr",
     "output_type": "stream",
     "text": [
      "[nltk_data] Downloading package stopwords to ../static/module...\n",
      "[nltk_data] Error downloading 'stopwords' from\n",
      "[nltk_data]     <https://raw.githubusercontent.com/nltk/nltk_data/gh-\n",
      "[nltk_data]     pages/packages/corpora/stopwords.zip>:   <urlopen\n",
      "[nltk_data]     error [WinError 10060] A connection attempt failed\n",
      "[nltk_data]     because the connected party did not properly respond\n",
      "[nltk_data]     after a period of time, or established connection\n",
      "[nltk_data]     failed because connected host has failed to respond>\n"
     ]
    },
    {
     "data": {
      "text/plain": [
       "False"
      ]
     },
     "execution_count": 23,
     "metadata": {},
     "output_type": "execute_result"
    }
   ],
   "source": [
    "# !pip install nltk\n",
    "import nltk\n",
    "nltk.download('stopwords',download_dir='../static/module')"
   ]
  },
  {
   "cell_type": "code",
   "execution_count": 24,
   "id": "81628e86-313b-4f7e-b9a9-c2c34ff6530d",
   "metadata": {},
   "outputs": [],
   "source": [
    "with open('../static/model/corpora/stopwords/english','r') as file :\n",
    "    sw =file.read().splitlines()\n"
   ]
  },
  {
   "cell_type": "code",
   "execution_count": 26,
   "id": "51245abc-ec78-4a06-a74f-681da2f54257",
   "metadata": {},
   "outputs": [
    {
     "data": {
      "text/html": [
       "<div>\n",
       "<style scoped>\n",
       "    .dataframe tbody tr th:only-of-type {\n",
       "        vertical-align: middle;\n",
       "    }\n",
       "\n",
       "    .dataframe tbody tr th {\n",
       "        vertical-align: top;\n",
       "    }\n",
       "\n",
       "    .dataframe thead th {\n",
       "        text-align: right;\n",
       "    }\n",
       "</style>\n",
       "<table border=\"1\" class=\"dataframe\">\n",
       "  <thead>\n",
       "    <tr style=\"text-align: right;\">\n",
       "      <th></th>\n",
       "      <th>id</th>\n",
       "      <th>label</th>\n",
       "      <th>tweet</th>\n",
       "    </tr>\n",
       "  </thead>\n",
       "  <tbody>\n",
       "    <tr>\n",
       "      <th>0</th>\n",
       "      <td>1</td>\n",
       "      <td>0</td>\n",
       "      <td>fingerprint pregnancy test android apps beauti...</td>\n",
       "    </tr>\n",
       "    <tr>\n",
       "      <th>1</th>\n",
       "      <td>2</td>\n",
       "      <td>0</td>\n",
       "      <td>finally transparant silicon case thanks uncle ...</td>\n",
       "    </tr>\n",
       "    <tr>\n",
       "      <th>2</th>\n",
       "      <td>3</td>\n",
       "      <td>0</td>\n",
       "      <td>love would go talk makememories unplug relax i...</td>\n",
       "    </tr>\n",
       "    <tr>\n",
       "      <th>3</th>\n",
       "      <td>4</td>\n",
       "      <td>0</td>\n",
       "      <td>im wired know im george made way iphone cute d...</td>\n",
       "    </tr>\n",
       "    <tr>\n",
       "      <th>4</th>\n",
       "      <td>5</td>\n",
       "      <td>1</td>\n",
       "      <td>amazing service apple wont even talk question ...</td>\n",
       "    </tr>\n",
       "  </tbody>\n",
       "</table>\n",
       "</div>"
      ],
      "text/plain": [
       "   id  label                                              tweet\n",
       "0   1      0  fingerprint pregnancy test android apps beauti...\n",
       "1   2      0  finally transparant silicon case thanks uncle ...\n",
       "2   3      0  love would go talk makememories unplug relax i...\n",
       "3   4      0  im wired know im george made way iphone cute d...\n",
       "4   5      1  amazing service apple wont even talk question ..."
      ]
     },
     "execution_count": 26,
     "metadata": {},
     "output_type": "execute_result"
    }
   ],
   "source": [
    "data[\"tweet\"]=data[\"tweet\"].apply(lambda x: \" \".join(x for x in x.split() if x not in sw))\n",
    "data.head()"
   ]
  },
  {
   "cell_type": "markdown",
   "id": "fb117b9d-5a25-4c17-8030-beb4429fd61e",
   "metadata": {},
   "source": [
    "##### Stemming"
   ]
  },
  {
   "cell_type": "code",
   "execution_count": 28,
   "id": "b4da43c3-693d-42a4-8008-bc3a24f5f662",
   "metadata": {},
   "outputs": [
    {
     "data": {
      "text/html": [
       "<div>\n",
       "<style scoped>\n",
       "    .dataframe tbody tr th:only-of-type {\n",
       "        vertical-align: middle;\n",
       "    }\n",
       "\n",
       "    .dataframe tbody tr th {\n",
       "        vertical-align: top;\n",
       "    }\n",
       "\n",
       "    .dataframe thead th {\n",
       "        text-align: right;\n",
       "    }\n",
       "</style>\n",
       "<table border=\"1\" class=\"dataframe\">\n",
       "  <thead>\n",
       "    <tr style=\"text-align: right;\">\n",
       "      <th></th>\n",
       "      <th>id</th>\n",
       "      <th>label</th>\n",
       "      <th>tweet</th>\n",
       "    </tr>\n",
       "  </thead>\n",
       "  <tbody>\n",
       "    <tr>\n",
       "      <th>0</th>\n",
       "      <td>1</td>\n",
       "      <td>0</td>\n",
       "      <td>fingerprint pregnanc test android app beauti c...</td>\n",
       "    </tr>\n",
       "    <tr>\n",
       "      <th>1</th>\n",
       "      <td>2</td>\n",
       "      <td>0</td>\n",
       "      <td>final transpar silicon case thank uncl yay son...</td>\n",
       "    </tr>\n",
       "    <tr>\n",
       "      <th>2</th>\n",
       "      <td>3</td>\n",
       "      <td>0</td>\n",
       "      <td>love would go talk makememori unplug relax iph...</td>\n",
       "    </tr>\n",
       "    <tr>\n",
       "      <th>3</th>\n",
       "      <td>4</td>\n",
       "      <td>0</td>\n",
       "      <td>im wire know im georg made way iphon cute dave...</td>\n",
       "    </tr>\n",
       "    <tr>\n",
       "      <th>4</th>\n",
       "      <td>5</td>\n",
       "      <td>1</td>\n",
       "      <td>amaz servic appl wont even talk question unles...</td>\n",
       "    </tr>\n",
       "  </tbody>\n",
       "</table>\n",
       "</div>"
      ],
      "text/plain": [
       "   id  label                                              tweet\n",
       "0   1      0  fingerprint pregnanc test android app beauti c...\n",
       "1   2      0  final transpar silicon case thank uncl yay son...\n",
       "2   3      0  love would go talk makememori unplug relax iph...\n",
       "3   4      0  im wire know im georg made way iphon cute dave...\n",
       "4   5      1  amaz servic appl wont even talk question unles..."
      ]
     },
     "execution_count": 28,
     "metadata": {},
     "output_type": "execute_result"
    }
   ],
   "source": [
    "from nltk.stem import PorterStemmer\n",
    "ps=PorterStemmer()\n",
    "\n",
    "data[\"tweet\"]=data[\"tweet\"].apply(lambda x: \" \".join(ps.stem(x) for x in x.split()))\n",
    "data.head()"
   ]
  },
  {
   "cell_type": "code",
   "execution_count": null,
   "id": "a3c88635-4a88-456e-85b7-f6c856a7697a",
   "metadata": {},
   "outputs": [],
   "source": [
    "#   Text \n",
    "#    |\n",
    "# Text Preprocessing\n",
    "#    |\n",
    "# Vectorizations(Create Vocubulary then convert vector)"
   ]
  },
  {
   "cell_type": "markdown",
   "id": "205a9090-7ea0-4573-8755-645af1c26678",
   "metadata": {},
   "source": [
    "#### Create Vocubulary"
   ]
  },
  {
   "cell_type": "code",
   "execution_count": 33,
   "id": "a51976b7-d8b2-423f-a33f-5ba2c524105c",
   "metadata": {},
   "outputs": [],
   "source": [
    "from collections import Counter\n",
    "vocab=Counter()"
   ]
  },
  {
   "cell_type": "code",
   "execution_count": 36,
   "id": "45628387-564f-46e5-8c6e-a59e602c3f8c",
   "metadata": {},
   "outputs": [
    {
     "data": {
      "text/plain": [
       "Counter({'python': 2, 'java': 1, 'C++': 1, 'js': 1})"
      ]
     },
     "execution_count": 36,
     "metadata": {},
     "output_type": "execute_result"
    }
   ],
   "source": [
    "# vocab.update(['java',\"python\",'C++',\"js\",'python'])\n",
    "# vocab\n",
    "\n",
    "# output :  Counter({'python': 2, 'java': 1, 'C++': 1, 'js': 1})"
   ]
  },
  {
   "cell_type": "code",
   "execution_count": 37,
   "id": "65121c66-b039-4666-bc28-c38da32db1be",
   "metadata": {},
   "outputs": [],
   "source": [
    "for sentence in data['tweet']:\n",
    "    vocab.update(sentence.split())"
   ]
  },
  {
   "cell_type": "code",
   "execution_count": 82,
   "id": "fbc8f2b4-f5c4-4acc-9839-832039d5cfa4",
   "metadata": {},
   "outputs": [],
   "source": [
    "# vocab"
   ]
  },
  {
   "cell_type": "code",
   "execution_count": 42,
   "id": "07beffc6-45d6-4873-94e2-6e062c2cf738",
   "metadata": {},
   "outputs": [
    {
     "data": {
      "text/plain": [
       "15952"
      ]
     },
     "execution_count": 42,
     "metadata": {},
     "output_type": "execute_result"
    }
   ],
   "source": [
    "len(vocab)"
   ]
  },
  {
   "cell_type": "code",
   "execution_count": 43,
   "id": "4a3b8735-7fba-4fe6-81fb-8c0133c9f228",
   "metadata": {},
   "outputs": [
    {
     "data": {
      "text/plain": [
       "(7920, 3)"
      ]
     },
     "execution_count": 43,
     "metadata": {},
     "output_type": "execute_result"
    }
   ],
   "source": [
    "data.shape      # vector has 15952 features ,it is affected to overfitting\n",
    "# records >features"
   ]
  },
  {
   "cell_type": "code",
   "execution_count": 45,
   "id": "aff86605-0813-4549-baac-c2ab6bfa716e",
   "metadata": {},
   "outputs": [
    {
     "data": {
      "text/plain": [
       "1145"
      ]
     },
     "execution_count": 45,
     "metadata": {},
     "output_type": "execute_result"
    }
   ],
   "source": [
    "# Get features more than 10 existence\n",
    "tokens =[key for key in vocab if vocab[key]>10]\n",
    "len(tokens)"
   ]
  },
  {
   "cell_type": "code",
   "execution_count": 46,
   "id": "12edecde-0e60-4a21-9501-74608af66077",
   "metadata": {},
   "outputs": [],
   "source": [
    "def save_vocabulary(lines,filename):\n",
    "    data = '\\n'.join(lines)\n",
    "    file = open(filename,'w',encoding =\"utf-8\")\n",
    "    file.write(data)\n",
    "    file.close()\n",
    "\n",
    "save_vocabulary(tokens,'../static/model/vocabulary.txt')"
   ]
  },
  {
   "cell_type": "markdown",
   "id": "b5a0ada2-3254-4810-8095-cee99819fefc",
   "metadata": {},
   "source": [
    "### Divide Dataset"
   ]
  },
  {
   "cell_type": "code",
   "execution_count": 55,
   "id": "d42c6cc1-8a4f-491e-8ea8-d14c28279aa6",
   "metadata": {},
   "outputs": [],
   "source": [
    "# !pip install scikit-learn\n",
    "X=data[\"tweet\"]\n",
    "Y=data[\"label\"]\n",
    "from sklearn.model_selection import train_test_split\n",
    "x_train,x_test,y_train,y_test =train_test_split(X,Y,test_size=0.2)"
   ]
  },
  {
   "cell_type": "code",
   "execution_count": 56,
   "id": "74498307-4b9c-41a8-897f-743473eff5b1",
   "metadata": {},
   "outputs": [
    {
     "data": {
      "text/plain": [
       "(1584,)"
      ]
     },
     "execution_count": 56,
     "metadata": {},
     "output_type": "execute_result"
    }
   ],
   "source": [
    "x_train.shape\n",
    "x_test.shape"
   ]
  },
  {
   "cell_type": "markdown",
   "id": "55b32c54-bbfb-4ffe-851d-9a870eae1c8f",
   "metadata": {},
   "source": [
    "### Vectorization"
   ]
  },
  {
   "cell_type": "code",
   "execution_count": 68,
   "id": "c1c64dac-63de-4f4f-84f1-78c689bdff95",
   "metadata": {},
   "outputs": [],
   "source": [
    "def vectorizar(ds,vocabulary) :\n",
    "    vectorized_list =[]\n",
    "\n",
    "    for sentence in ds :\n",
    "        sentence_lst = np.zeros(len(vocabulary))\n",
    "\n",
    "        for i in range(len(vocabulary)):\n",
    "            if vocabulary[i] in sentence.split():\n",
    "                sentence_lst[i] =1\n",
    "\n",
    "        vectorized_list.append((sentence_lst))\n",
    "    vectorized_lst_new =np.asarray(vectorized_list,dtype=np.float32)\n",
    "    return vectorized_lst_new"
   ]
  },
  {
   "cell_type": "code",
   "execution_count": 69,
   "id": "848dbbe6-cae1-4cca-ab19-6f0dddd6e5f7",
   "metadata": {},
   "outputs": [],
   "source": [
    "vectorized_x_train = vectorizar(x_train,tokens)\n",
    "vectorized_x_test = vectorizar(x_test,tokens)"
   ]
  },
  {
   "cell_type": "markdown",
   "id": "fd37de14-c0cb-4357-b41a-f07f99610e6a",
   "metadata": {},
   "source": [
    "### Handle Imabalanced Dataset"
   ]
  },
  {
   "cell_type": "code",
   "execution_count": 72,
   "id": "ac7eaddd-6f5a-4ec6-afa5-ea6a0ef720c8",
   "metadata": {},
   "outputs": [
    {
     "data": {
      "text/plain": [
       "label\n",
       "0    4722\n",
       "1    1614\n",
       "Name: count, dtype: int64"
      ]
     },
     "execution_count": 72,
     "metadata": {},
     "output_type": "execute_result"
    }
   ],
   "source": [
    "y_train.value_counts() # imbalanced "
   ]
  },
  {
   "cell_type": "code",
   "execution_count": 80,
   "id": "bc4c9a6f-b87e-4a33-9512-6400a3bc066c",
   "metadata": {},
   "outputs": [],
   "source": [
    "#Smote technique\n",
    "# ! pip install imbalanced-learn\n",
    "\n",
    "from imblearn.over_sampling import SMOTE\n",
    "smote = SMOTE()\n",
    "vectorized_x_train_smote , y_train_smote=smote.fit_resample(vectorized_x_train,y_train)"
   ]
  },
  {
   "cell_type": "code",
   "execution_count": 81,
   "id": "f54a2a51-ea3c-4e20-b902-871a99123024",
   "metadata": {},
   "outputs": [
    {
     "data": {
      "text/plain": [
       "label\n",
       "0    4722\n",
       "1    4722\n",
       "Name: count, dtype: int64"
      ]
     },
     "execution_count": 81,
     "metadata": {},
     "output_type": "execute_result"
    }
   ],
   "source": [
    "y_train_smote.value_counts()"
   ]
  },
  {
   "cell_type": "code",
   "execution_count": null,
   "id": "65c7798a-e3a2-45e9-9d73-3a769939e454",
   "metadata": {},
   "outputs": [],
   "source": [
    "#vectorized_x_train_smote , y_train_smote\n",
    "#vectorized_x_test,y_test"
   ]
  },
  {
   "cell_type": "markdown",
   "id": "aebd2e36-fa63-45ad-af3e-ee0aae7292b9",
   "metadata": {},
   "source": [
    "## Model Training and Evaluation"
   ]
  },
  {
   "cell_type": "code",
   "execution_count": 84,
   "id": "d0346005-196b-41ed-ab58-c685960a5f55",
   "metadata": {},
   "outputs": [],
   "source": [
    "from  sklearn.linear_model import LogisticRegression\n",
    "from  sklearn.naive_bayes import MultinomialNB\n",
    "from  sklearn.tree import DecisionTreeClassifier\n",
    "from  sklearn.ensemble import RandomForestClassifier\n",
    "from  sklearn.svm  import SVC"
   ]
  },
  {
   "cell_type": "code",
   "execution_count": 102,
   "id": "8078f241-4eb8-4a46-99f2-6b2bd912d27a",
   "metadata": {},
   "outputs": [],
   "source": [
    "from sklearn.metrics import accuracy_score ,f1_score,precision_score,recall_score\n",
    "\n",
    "def training_scores (y_act,y_pred) :\n",
    "    acc =round(accuracy_score(y_act,y_pred),3)\n",
    "    pr =round(precision_score(y_act,y_pred),3)\n",
    "    rec =round(recall_score(y_act,y_pred),3)\n",
    "    f1=round(f1_score(y_act,y_pred),3)\n",
    "    print(f\"Training Scores :\\n\\tAccuracy ={acc}\\n\\tPrecision ={pr}\\n\\tRecall ={rec}\\n\\tF1-score ={f1}\")\n",
    "\n",
    "def validation_scores (y_act,y_pred) :\n",
    "    acc =round(accuracy_score(y_act,y_pred),3)\n",
    "    pr =round(precision_score(y_act,y_pred),3)\n",
    "    rec =round(recall_score(y_act,y_pred),3)\n",
    "    f1=round(f1_score(y_act,y_pred),3)\n",
    "    print(f\"Testing  Scores :\\n\\tAccuracy ={acc}\\n\\tPrecision ={pr}\\n\\tRecall ={rec}\\n\\tF1-score ={f1}\")"
   ]
  },
  {
   "cell_type": "markdown",
   "id": "07aaf5c8-bd1e-422e-8a7d-eec10b49b2fc",
   "metadata": {},
   "source": [
    "### Logistic Regression"
   ]
  },
  {
   "cell_type": "code",
   "execution_count": 106,
   "id": "6dca4379-8f84-4dd6-9e0f-420521b8b219",
   "metadata": {},
   "outputs": [
    {
     "name": "stdout",
     "output_type": "stream",
     "text": [
      "Training Scores :\n",
      "\tAccuracy =0.942\n",
      "\tPrecision =0.919\n",
      "\tRecall =0.969\n",
      "\tF1-score =0.943\n",
      "Testing  Scores :\n",
      "\tAccuracy =0.859\n",
      "\tPrecision =0.682\n",
      "\tRecall =0.854\n",
      "\tF1-score =0.759\n"
     ]
    }
   ],
   "source": [
    "lr=LogisticRegression()\n",
    "lr.fit(vectorized_x_train_smote,y_train_smote)\n",
    "\n",
    "y_train_pred=lr.predict(vectorized_x_train_smote)\n",
    "y_test_pred=lr.predict(vectorized_x_test)\n",
    "\n",
    "#training accuracy\n",
    "training_scores(y_train_smote,y_train_pred)\n",
    "\n",
    "# test accuracy\n",
    "validation_scores(y_test,y_test_pred)"
   ]
  },
  {
   "cell_type": "markdown",
   "id": "004e146d-38ae-46c3-a238-ab51ab335d79",
   "metadata": {},
   "source": [
    "### Naive Bayes "
   ]
  },
  {
   "cell_type": "code",
   "execution_count": 107,
   "id": "5bd121e1-2bc3-4d0c-af00-5a2ebf15740a",
   "metadata": {},
   "outputs": [
    {
     "name": "stdout",
     "output_type": "stream",
     "text": [
      "Training Scores :\n",
      "\tAccuracy =0.909\n",
      "\tPrecision =0.873\n",
      "\tRecall =0.958\n",
      "\tF1-score =0.913\n",
      "Testing  Scores :\n",
      "\tAccuracy =0.854\n",
      "\tPrecision =0.66\n",
      "\tRecall =0.905\n",
      "\tF1-score =0.764\n"
     ]
    }
   ],
   "source": [
    "\n",
    "mnb=MultinomialNB()\n",
    "mnb.fit(vectorized_x_train_smote,y_train_smote)\n",
    "\n",
    "y_train_pred=mnb.predict(vectorized_x_train_smote)\n",
    "y_test_pred=mnb.predict(vectorized_x_test)\n",
    "\n",
    "#training accuracy\n",
    "training_scores(y_train_smote,y_train_pred)\n",
    "\n",
    "# test accuracy\n",
    "validation_scores(y_test,y_test_pred)\n"
   ]
  },
  {
   "cell_type": "markdown",
   "id": "47220074-1d66-4910-9dd0-9c3fc98532aa",
   "metadata": {},
   "source": [
    "### Decsion Tree"
   ]
  },
  {
   "cell_type": "code",
   "execution_count": 109,
   "id": "d490a875-75ab-46b9-96e7-c69260d751a9",
   "metadata": {},
   "outputs": [
    {
     "name": "stdout",
     "output_type": "stream",
     "text": [
      "Training Scores :\n",
      "\tAccuracy =1.0\n",
      "\tPrecision =1.0\n",
      "\tRecall =0.999\n",
      "\tF1-score =1.0\n",
      "Testing  Scores :\n",
      "\tAccuracy =0.825\n",
      "\tPrecision =0.677\n",
      "\tRecall =0.626\n",
      "\tF1-score =0.651\n"
     ]
    }
   ],
   "source": [
    "dt=DecisionTreeClassifier()\n",
    "dt.fit(vectorized_x_train_smote,y_train_smote)\n",
    "\n",
    "y_train_pred=dt.predict(vectorized_x_train_smote)\n",
    "y_test_pred=dt.predict(vectorized_x_test)\n",
    "\n",
    "#training accuracy\n",
    "training_scores(y_train_smote,y_train_pred)\n",
    "\n",
    "# test accuracy\n",
    "validation_scores(y_test,y_test_pred)\n"
   ]
  },
  {
   "cell_type": "markdown",
   "id": "45a972f5-db9b-4240-9144-fa6d5741f1fd",
   "metadata": {},
   "source": [
    "### RandomForest "
   ]
  },
  {
   "cell_type": "code",
   "execution_count": 112,
   "id": "14e65f86-b7cb-4d37-b781-c6b052a2fec6",
   "metadata": {},
   "outputs": [
    {
     "name": "stdout",
     "output_type": "stream",
     "text": [
      "Training Scores :\n",
      "\tAccuracy =1.0\n",
      "\tPrecision =1.0\n",
      "\tRecall =1.0\n",
      "\tF1-score =1.0\n",
      "Testing  Scores :\n",
      "\tAccuracy =0.871\n",
      "\tPrecision =0.764\n",
      "\tRecall =0.731\n",
      "\tF1-score =0.747\n"
     ]
    }
   ],
   "source": [
    "rf = RandomForestClassifier()\n",
    "rf.fit(vectorized_x_train_smote,y_train_smote)\n",
    "\n",
    "y_train_pred=rf.predict(vectorized_x_train_smote)\n",
    "y_test_pred=rf.predict(vectorized_x_test)\n",
    "\n",
    "#training accuracy\n",
    "training_scores(y_train_smote,y_train_pred)\n",
    "\n",
    "# test accuracy\n",
    "validation_scores(y_test,y_test_pred)\n"
   ]
  },
  {
   "cell_type": "markdown",
   "id": "8708534e-c9ad-44f4-8f3a-a83c8815aae6",
   "metadata": {},
   "source": [
    "### Support Vector Machine"
   ]
  },
  {
   "cell_type": "code",
   "execution_count": 113,
   "id": "e3e1d42b-6ffe-4057-a39a-c8f446f0f953",
   "metadata": {},
   "outputs": [
    {
     "name": "stdout",
     "output_type": "stream",
     "text": [
      "Training Scores :\n",
      "\tAccuracy =1.0\n",
      "\tPrecision =0.999\n",
      "\tRecall =1.0\n",
      "\tF1-score =1.0\n",
      "Testing  Scores :\n",
      "\tAccuracy =0.865\n",
      "\tPrecision =0.754\n",
      "\tRecall =0.714\n",
      "\tF1-score =0.733\n"
     ]
    }
   ],
   "source": [
    "sv = RandomForestClassifier()\n",
    "sv.fit(vectorized_x_train_smote,y_train_smote)\n",
    "\n",
    "y_train_pred=sv.predict(vectorized_x_train_smote)\n",
    "y_test_pred=sv.predict(vectorized_x_test)\n",
    "\n",
    "#training accuracy\n",
    "training_scores(y_train_smote,y_train_pred)\n",
    "\n",
    "# test accuracy\n",
    "validation_scores(y_test,y_test_pred)"
   ]
  },
  {
   "cell_type": "code",
   "execution_count": null,
   "id": "a582a5cb-9ebb-4ace-b67d-18ab946eeacb",
   "metadata": {},
   "outputs": [],
   "source": []
  }
 ],
 "metadata": {
  "kernelspec": {
   "display_name": "Python 3 (ipykernel)",
   "language": "python",
   "name": "python3"
  },
  "language_info": {
   "codemirror_mode": {
    "name": "ipython",
    "version": 3
   },
   "file_extension": ".py",
   "mimetype": "text/x-python",
   "name": "python",
   "nbconvert_exporter": "python",
   "pygments_lexer": "ipython3",
   "version": "3.13.5"
  }
 },
 "nbformat": 4,
 "nbformat_minor": 5
}
