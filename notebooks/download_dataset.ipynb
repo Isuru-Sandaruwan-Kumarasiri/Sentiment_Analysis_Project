{
 "cells": [
  {
   "cell_type": "code",
   "execution_count": 1,
   "id": "0dfa673f",
   "metadata": {
    "vscode": {
     "languageId": "plaintext"
    }
   },
   "outputs": [],
   "source": [
    "import numpy as np"
   ]
  },
  {
   "cell_type": "code",
   "execution_count": 5,
   "id": "72fdd20e-9867-459f-9ca4-082011d2a932",
   "metadata": {},
   "outputs": [],
   "source": [
    "import json\n",
    "with open('../data/kaggle.json','r') as file:\n",
    "    data=json.load(file)"
   ]
  },
  {
   "cell_type": "code",
   "execution_count": 6,
   "id": "1b2bf818-8a25-411c-8d42-f16a68f4efe6",
   "metadata": {},
   "outputs": [
    {
     "data": {
      "text/plain": [
       "{'username': 'isurusandaruwan0601', 'key': 'c9dff3746b15bdd3499f0a0b1145c13f'}"
      ]
     },
     "execution_count": 6,
     "metadata": {},
     "output_type": "execute_result"
    }
   ],
   "source": [
    "data"
   ]
  },
  {
   "cell_type": "code",
   "execution_count": 8,
   "id": "d8576b7a-d518-4155-b950-287ef8d78af6",
   "metadata": {},
   "outputs": [
    {
     "name": "stdout",
     "output_type": "stream",
     "text": [
      "Requirement already satisfied: kaggle in c:\\users\\isuru sandaruwan\\onedrive\\desktop\\ml\\project\\sentiment_analysis_project\\env\\lib\\site-packages (1.7.4.5)\n",
      "Requirement already satisfied: bleach in c:\\users\\isuru sandaruwan\\onedrive\\desktop\\ml\\project\\sentiment_analysis_project\\env\\lib\\site-packages (from kaggle) (6.2.0)\n",
      "Requirement already satisfied: certifi>=14.05.14 in c:\\users\\isuru sandaruwan\\onedrive\\desktop\\ml\\project\\sentiment_analysis_project\\env\\lib\\site-packages (from kaggle) (2025.6.15)\n",
      "Requirement already satisfied: charset-normalizer in c:\\users\\isuru sandaruwan\\onedrive\\desktop\\ml\\project\\sentiment_analysis_project\\env\\lib\\site-packages (from kaggle) (3.4.2)\n",
      "Requirement already satisfied: idna in c:\\users\\isuru sandaruwan\\onedrive\\desktop\\ml\\project\\sentiment_analysis_project\\env\\lib\\site-packages (from kaggle) (3.10)\n",
      "Requirement already satisfied: protobuf in c:\\users\\isuru sandaruwan\\onedrive\\desktop\\ml\\project\\sentiment_analysis_project\\env\\lib\\site-packages (from kaggle) (6.31.1)\n",
      "Requirement already satisfied: python-dateutil>=2.5.3 in c:\\users\\isuru sandaruwan\\onedrive\\desktop\\ml\\project\\sentiment_analysis_project\\env\\lib\\site-packages (from kaggle) (2.9.0.post0)\n",
      "Requirement already satisfied: python-slugify in c:\\users\\isuru sandaruwan\\onedrive\\desktop\\ml\\project\\sentiment_analysis_project\\env\\lib\\site-packages (from kaggle) (8.0.4)\n",
      "Requirement already satisfied: requests in c:\\users\\isuru sandaruwan\\onedrive\\desktop\\ml\\project\\sentiment_analysis_project\\env\\lib\\site-packages (from kaggle) (2.32.4)\n",
      "Requirement already satisfied: setuptools>=21.0.0 in c:\\users\\isuru sandaruwan\\onedrive\\desktop\\ml\\project\\sentiment_analysis_project\\env\\lib\\site-packages (from kaggle) (80.9.0)\n",
      "Requirement already satisfied: six>=1.10 in c:\\users\\isuru sandaruwan\\onedrive\\desktop\\ml\\project\\sentiment_analysis_project\\env\\lib\\site-packages (from kaggle) (1.17.0)\n",
      "Requirement already satisfied: text-unidecode in c:\\users\\isuru sandaruwan\\onedrive\\desktop\\ml\\project\\sentiment_analysis_project\\env\\lib\\site-packages (from kaggle) (1.3)\n",
      "Requirement already satisfied: tqdm in c:\\users\\isuru sandaruwan\\onedrive\\desktop\\ml\\project\\sentiment_analysis_project\\env\\lib\\site-packages (from kaggle) (4.67.1)\n",
      "Requirement already satisfied: urllib3>=1.15.1 in c:\\users\\isuru sandaruwan\\onedrive\\desktop\\ml\\project\\sentiment_analysis_project\\env\\lib\\site-packages (from kaggle) (2.5.0)\n",
      "Requirement already satisfied: webencodings in c:\\users\\isuru sandaruwan\\onedrive\\desktop\\ml\\project\\sentiment_analysis_project\\env\\lib\\site-packages (from kaggle) (0.5.1)\n",
      "Requirement already satisfied: colorama in c:\\users\\isuru sandaruwan\\onedrive\\desktop\\ml\\project\\sentiment_analysis_project\\env\\lib\\site-packages (from tqdm->kaggle) (0.4.6)\n"
     ]
    }
   ],
   "source": [
    "# !pip install kaggle"
   ]
  },
  {
   "cell_type": "code",
   "execution_count": 9,
   "id": "14ad68c5-574c-4e08-9a98-8c13631a89df",
   "metadata": {},
   "outputs": [],
   "source": [
    "import os\n",
    "os.environ['KAGGLE_USERNAME']=data['username']\n",
    "os.environ['KAGGLE_KEY']=data['key']"
   ]
  },
  {
   "cell_type": "code",
   "execution_count": 13,
   "id": "1aaf8c64-7e50-43cd-b9ee-c723336b1a6a",
   "metadata": {},
   "outputs": [],
   "source": [
    "from kaggle.api.kaggle_api_extended import KaggleApi\n",
    "api=KaggleApi()\n",
    "api.authenticate()"
   ]
  },
  {
   "cell_type": "code",
   "execution_count": 14,
   "id": "fc4ca460-fd37-4f35-9984-7f3ff4d8406c",
   "metadata": {},
   "outputs": [
    {
     "name": "stdout",
     "output_type": "stream",
     "text": [
      "Dataset URL: https://www.kaggle.com/datasets/dineshpiyasamara/sentiment-analysis-dataset\n"
     ]
    }
   ],
   "source": [
    "api.dataset_download_files(\"dineshpiyasamara/sentiment-analysis-dataset\",path=\"../data/\")"
   ]
  },
  {
   "cell_type": "code",
   "execution_count": 16,
   "id": "c21aa505-8ce7-424e-ac25-15835ca3f062",
   "metadata": {},
   "outputs": [],
   "source": [
    "# extract data\n",
    "import zipfile\n",
    "with zipfile.ZipFile(\"../data/sentiment-analysis-dataset.zip\",'r') as zip_ref :\n",
    "  zip_ref.extractall(\"../data/\")"
   ]
  },
  {
   "cell_type": "code",
   "execution_count": null,
   "id": "bb280250-4f61-49cf-9daa-9e5fd7e31122",
   "metadata": {},
   "outputs": [],
   "source": []
  }
 ],
 "metadata": {
  "kernelspec": {
   "display_name": "Python 3 (ipykernel)",
   "language": "python",
   "name": "python3"
  },
  "language_info": {
   "codemirror_mode": {
    "name": "ipython",
    "version": 3
   },
   "file_extension": ".py",
   "mimetype": "text/x-python",
   "name": "python",
   "nbconvert_exporter": "python",
   "pygments_lexer": "ipython3",
   "version": "3.13.5"
  }
 },
 "nbformat": 4,
 "nbformat_minor": 5
}
